{
 "metadata": {
  "name": "",
  "signature": "sha256:213f60b9bcafd7a7b6fd05626c96dd8c4113fb6e3b19a1ca165ba2f8dedec0f5"
 },
 "nbformat": 3,
 "nbformat_minor": 0,
 "worksheets": [
  {
   "cells": [
    {
     "cell_type": "markdown",
     "metadata": {},
     "source": [
      "#<span style=\"color: green\"> Machine Learning </span>\n",
      "##<p style='color:green'>House price prediction using Sklearn .</p>"
     ]
    },
    {
     "cell_type": "markdown",
     "metadata": {},
     "source": [
      "##<span style=\"color: blue\">The dataset includes\n",
      "### <span style=\"color: blue\">Features\n",
      "### <span style=\"color: blue\">1.The house size in square ft\n",
      "### <span style=\"color: blue\">2. The number of rooms in the house\n",
      "###<span style=\"color: blue\"> 3. The Third column has the price"
     ]
    },
    {
     "cell_type": "markdown",
     "metadata": {},
     "source": [
      " "
     ]
    },
    {
     "cell_type": "code",
     "collapsed": false,
     "input": [
      "#a linear regression model for predicting house prices\n",
      "\n",
      "\n",
      "import matplotlib.pyplot as plt\n",
      "import numpy as np\n",
      "from sklearn import datasets, linear_model\n",
      "from __future__ import print_function  \n",
      "from sklearn import cross_validation\n",
      "from sklearn.naive_bayes import GaussianNB\n",
      "\n",
      "# Loading Data from ex1data2.txt\n",
      "data = np.loadtxt(('ex1data2.txt'),delimiter=\",\");\n",
      "X = data[:, 0:2]#Features \n",
      "y = data[:, 2:3]#price "
     ],
     "language": "python",
     "metadata": {},
     "outputs": [],
     "prompt_number": 28
    },
    {
     "cell_type": "heading",
     "level": 2,
     "metadata": {},
     "source": [
      "dividing the data into training and testing samples"
     ]
    },
    {
     "cell_type": "code",
     "collapsed": false,
     "input": [
      "#training samples\n",
      "X_train = X[0:46,0:2]\n",
      "y_train=y[:46]\n",
      "# testing sets\n",
      "X_test=X[30:46,0:2]\n",
      "y_test=y[30:46]"
     ],
     "language": "python",
     "metadata": {},
     "outputs": [],
     "prompt_number": 3
    },
    {
     "cell_type": "heading",
     "level": 2,
     "metadata": {},
     "source": [
      "fitting a linear regression model"
     ]
    },
    {
     "cell_type": "code",
     "collapsed": false,
     "input": [
      "# Create linear regression object\n",
      "regr = linear_model.LinearRegression(fit_intercept=True, normalize=True, copy_X=True);\n",
      "\n",
      "# Train the model using the training sets\n",
      "regr.fit(X_train,y_train);"
     ],
     "language": "python",
     "metadata": {},
     "outputs": [],
     "prompt_number": 5
    },
    {
     "cell_type": "heading",
     "level": 2,
     "metadata": {},
     "source": [
      "obtaining the coefficient that is the value of for after optimization"
     ]
    },
    {
     "cell_type": "code",
     "collapsed": false,
     "input": [
      "# The coefficients\n",
      "print('Coefficients: ', str(regr.coef_).replace('','').replace('[','').replace(']',''))\n",
      "# The mean square error"
     ],
     "language": "python",
     "metadata": {},
     "outputs": [
      {
       "output_type": "stream",
       "stream": "stdout",
       "text": [
        "Coefficients:    139.52821257 -8865.75259355\n"
       ]
      }
     ],
     "prompt_number": 33
    },
    {
     "cell_type": "markdown",
     "metadata": {},
     "source": [
      "##obtaining the least squares error\n",
      "\n",
      "###$$e=||m- \\theta^2|| $$\n"
     ]
    },
    {
     "cell_type": "markdown",
     "metadata": {},
     "source": [
      "\n"
     ]
    },
    {
     "cell_type": "code",
     "collapsed": false,
     "input": [
      "# The mean square error\n",
      "print(\"Residual sum of squares: %.2f\"\n",
      "      % np.mean((regr.predict(X_test) - y_test) ** 2))"
     ],
     "language": "python",
     "metadata": {},
     "outputs": [
      {
       "output_type": "stream",
       "stream": "stdout",
       "text": [
        "Residual sum of squares: 2790151762.06\n"
       ]
      }
     ],
     "prompt_number": 12
    },
    {
     "cell_type": "heading",
     "level": 2,
     "metadata": {},
     "source": [
      "obtaining the variance score\n"
     ]
    },
    {
     "cell_type": "code",
     "collapsed": false,
     "input": [
      "# Explained variance score: 1 is perfect prediction\n",
      "print('Variance score: %.2f' % regr.score(X_test, y_test))"
     ],
     "language": "python",
     "metadata": {},
     "outputs": [
      {
       "output_type": "stream",
       "stream": "stdout",
       "text": [
        "Variance score: 0.76\n"
       ]
      }
     ],
     "prompt_number": 13
    },
    {
     "cell_type": "heading",
     "level": 2,
     "metadata": {},
     "source": [
      "Predicting the price of a house with 1650sq ft and 3 rooms"
     ]
    },
    {
     "cell_type": "code",
     "collapsed": false,
     "input": [
      "x=[1650,3]\n",
      "price=regr.predict(x)\n",
      "print(\"price of house of 1650 sq ft and 3 rooms\",str(price).replace(' ','').replace('','').replace('[','').replace(']','')+\"$\")"
     ],
     "language": "python",
     "metadata": {},
     "outputs": [
      {
       "output_type": "stream",
       "stream": "stdout",
       "text": [
        "price of house of 1650 sq ft and 3 rooms 292798.8676108$\n"
       ]
      }
     ],
     "prompt_number": 30
    },
    {
     "cell_type": "code",
     "collapsed": false,
     "input": [],
     "language": "python",
     "metadata": {},
     "outputs": [],
     "prompt_number": 16
    },
    {
     "cell_type": "code",
     "collapsed": false,
     "input": [],
     "language": "python",
     "metadata": {},
     "outputs": []
    }
   ],
   "metadata": {}
  }
 ]
}