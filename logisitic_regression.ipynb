{
 "metadata": {
  "name": "",
  "signature": "sha256:9d76c96ee70a9f710a3648405f4db71090f509ac07ad4311921324b09b4ef728"
 },
 "nbformat": 3,
 "nbformat_minor": 0,
 "worksheets": [
  {
   "cells": [
    {
     "cell_type": "markdown",
     "metadata": {},
     "source": [
      "#Machine Learning\n",
      "##microchip fault prediction using a logistic regression model\n"
     ]
    },
    {
     "cell_type": "code",
     "collapsed": false,
     "input": [
      "import matplotlib.pyplot as plt\n",
      "import numpy as np\n",
      "from sklearn import datasets, linear_model\n",
      "import plotData\n",
      "import mapFeature as mF\n",
      "%pylab inline"
     ],
     "language": "python",
     "metadata": {},
     "outputs": [
      {
       "output_type": "stream",
       "stream": "stdout",
       "text": [
        "Populating the interactive namespace from numpy and matplotlib\n"
       ]
      }
     ],
     "prompt_number": 7
    },
    {
     "cell_type": "code",
     "collapsed": false,
     "input": [
      "# Load Data\n",
      "data = np.loadtxt(('ex2data2.txt'),delimiter=\",\");\n",
      "X = data[:, 0:2]\n",
      "y = data[:, 2:3].astype(int)"
     ],
     "language": "python",
     "metadata": {},
     "outputs": [],
     "prompt_number": 2
    },
    {
     "cell_type": "markdown",
     "metadata": {},
     "source": [
      "##We add more feature to be able to predict better on our test set .this is called feature mapping\n",
      "##The implementation is in the file mapFeature.py"
     ]
    },
    {
     "cell_type": "code",
     "collapsed": false,
     "input": [
      "#mapping Features\n",
      "X_map = mF.mapFeature(X[:,0], X[:,1]);"
     ],
     "language": "python",
     "metadata": {},
     "outputs": [],
     "prompt_number": 3
    },
    {
     "cell_type": "markdown",
     "metadata": {},
     "source": [
      "###dividing the data into test data"
     ]
    },
    {
     "cell_type": "code",
     "collapsed": false,
     "input": [
      "X_test=X_map[0:50,0:50]\n",
      "y_test=y[0:50]"
     ],
     "language": "python",
     "metadata": {},
     "outputs": [],
     "prompt_number": 4
    },
    {
     "cell_type": "markdown",
     "metadata": {},
     "source": [
      "###Plotting the data\n"
     ]
    },
    {
     "cell_type": "code",
     "collapsed": false,
     "input": [
      "#plotting the data\n",
      "plotData.plotData(X,y)"
     ],
     "language": "python",
     "metadata": {},
     "outputs": [
      {
       "metadata": {},
       "output_type": "display_data",
       "png": "[encoded data removed]",
       "text": [
        "<matplotlib.figure.Figure at 0xaecc380c>"
       ]
      }
     ],
     "prompt_number": 8
    },
    {
     "cell_type": "markdown",
     "metadata": {},
     "source": [
      "###obtaining the values of $$./theta $$"
     ]
    },
    {
     "cell_type": "code",
     "collapsed": false,
     "input": [
      "# Create logistic regression object. We dont fit an intercept term since MapFeature already does that for us\n",
      "logreg = linear_model.LogisticRegression( fit_intercept=False)\n",
      "\n",
      "# Train the model using the training sets\n",
      "logreg.fit(X_map,y.ravel())\n",
      "# The coefficients\n",
      "print('Coefficients: \\n', logreg.coef_) #values of theta"
     ],
     "language": "python",
     "metadata": {},
     "outputs": [
      {
       "output_type": "stream",
       "stream": "stdout",
       "text": [
        "('Coefficients: \\n', array([[ 1.1421418 ,  0.60133123,  1.16720816, -1.87175318, -0.91573602,\n",
        "        -1.26954353,  0.12666993, -0.36872263, -0.34519427, -0.1737859 ,\n",
        "        -1.42387402, -0.04858047, -0.60640851, -0.26932551, -1.16317987,\n",
        "        -0.24308611, -0.20707255, -0.0432088 , -0.28027502, -0.28694562,\n",
        "        -0.46911911, -1.03616566,  0.02922704, -0.29262593,  0.01734536,\n",
        "        -0.32896299, -0.13795013, -0.93199552]]))\n"
       ]
      }
     ],
     "prompt_number": 10
    },
    {
     "cell_type": "heading",
     "level": 3,
     "metadata": {},
     "source": [
      "obtaining the accuracy"
     ]
    },
    {
     "cell_type": "code",
     "collapsed": false,
     "input": [
      "# Explained variance score: 1 is perfect prediction\n",
      "print('Variance score: %.2f' % logreg.score(X_map, y))"
     ],
     "language": "python",
     "metadata": {},
     "outputs": [
      {
       "output_type": "stream",
       "stream": "stdout",
       "text": [
        "Variance score: 0.82\n"
       ]
      }
     ],
     "prompt_number": 11
    },
    {
     "cell_type": "heading",
     "level": 3,
     "metadata": {},
     "source": [
      "plotting the decision boundary"
     ]
    },
    {
     "cell_type": "code",
     "collapsed": false,
     "input": [
      "# Plot the decision boundary\n",
      "# point in the mesh [x_min, m_max]x[y_min, y_max].\n",
      "\n",
      "u =np.linspace(-1, 1.5, 50);\n",
      "u=u.reshape(np.size(u),1);\n",
      "v = np.linspace(-1, 1.5, 50);\n",
      "v=v.reshape(np.size(v),1);\n",
      "\n",
      "z = np.matrix(np.zeros((len(u), len(v)),dtype=float));\n",
      "m,n=np.shape(logreg.coef_)\n",
      "for i in range (len(u)):\n",
      " for j in range(len(v)):\n",
      "     z[i,j]=np.dot(mF.mapFeature(u[i], v[j]),logreg.coef_.reshape(n,m))\n",
      "\n",
      "#reshaping back to original way to enable the plotting\n",
      "u =np.linspace(-1, 1.5, 50);\n",
      "v =np.linspace(-1, 1.5, 50);\n",
      "plotData.plotData(X,y)\n",
      "#plotting a contour for the decision boundary z is transposed\n",
      "plt.contour(u, v,np.transpose( z),(0,0),label=\"decision\")\n",
      "plt.show()\n"
     ],
     "language": "python",
     "metadata": {},
     "outputs": [
      {
       "metadata": {},
       "output_type": "display_data",
       "png": "[encoded data removed]",
       "text": [
        "<matplotlib.figure.Figure at 0xaecab34c>"
       ]
      }
     ],
     "prompt_number": 13
    },
    {
     "cell_type": "code",
     "collapsed": false,
     "input": [],
     "language": "python",
     "metadata": {},
     "outputs": []
    }
   ],
   "metadata": {}
  }
 ]
}